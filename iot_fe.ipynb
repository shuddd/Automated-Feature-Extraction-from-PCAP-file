{
 "cells": [
  {
   "cell_type": "code",
   "execution_count": 1,
   "id": "a0aba849",
   "metadata": {},
   "outputs": [],
   "source": [
    "import os\n",
    "import subprocess\n",
    "import pandas as pd\n",
    "import numpy as np"
   ]
  },
  {
   "cell_type": "code",
   "execution_count": 2,
   "id": "cd9d89dc",
   "metadata": {},
   "outputs": [
    {
     "name": "stdout",
     "output_type": "stream",
     "text": [
      "Enter the name of pcap file for feature extraction :non_attack_data\n",
      "non_attack_data\n",
      "Enter 0) for attack data 1) for non attack data :1\n",
      "1\n"
     ]
    }
   ],
   "source": [
    "a = input(\"Enter the name of pcap file for feature extraction :\")\n",
    "print(a)\n",
    "b=input(\"Enter 0) for attack data 1) for non attack data :\")\n",
    "print(b)"
   ]
  },
  {
   "cell_type": "code",
   "execution_count": 3,
   "id": "afc2ebfb",
   "metadata": {},
   "outputs": [],
   "source": [
    "os.mkdir(\"sliced_\"+a)\n",
    "os.mkdir(\"sliced_csv_\"+a)"
   ]
  },
  {
   "cell_type": "code",
   "execution_count": 4,
   "id": "6b74c8cf",
   "metadata": {},
   "outputs": [
    {
     "data": {
      "text/plain": [
       "0"
      ]
     },
     "execution_count": 4,
     "metadata": {},
     "output_type": "execute_result"
    }
   ],
   "source": [
    "#time slicing one pcap into 200\n",
    "subprocess.call([\"C:\\\\Program Files\\\\Wireshark\\\\editcap.exe\",\"-i\",\"10\",r\"C:\\Users\\shudd\\Desktop\\iot_fe\\\\\"+a+\".pcap\",r\"C:\\Users\\shudd\\Desktop\\iot_fe\\sliced_\"+a+\"\\out.pcap\"])"
   ]
  },
  {
   "cell_type": "code",
   "execution_count": 5,
   "id": "8fa2ffb4",
   "metadata": {},
   "outputs": [],
   "source": [
    "#feature extraction from pcap to csv\n",
    "startdir='.\\sliced_'+a\n",
    "i=1\n",
    "for root, dirs, files in os.walk(startdir):\n",
    "    for file in files:\n",
    "        if file.endswith('.pcap'):\n",
    "            filename=os.path.join(root,file)\n",
    "            tsharkCall = [\"C:\\\\Program Files\\\\Wireshark\\\\capinfos.exe\", \"-x\", \"-c\", \"-z\",\"-y\", filename]\n",
    "            tsharkOut  = open(\".\\\\sliced_csv_\"+a+\"\\\\out\"+str(i)+\".csv\", \"wb\")\n",
    "            i=i+1\n",
    "            tsharkProc = subprocess.call(tsharkCall, stdout=tsharkOut) "
   ]
  },
  {
   "cell_type": "code",
   "execution_count": 6,
   "id": "0d6e655c",
   "metadata": {},
   "outputs": [],
   "source": [
    "list=[]\n",
    "ls=[]\n",
    "startdir='.\\sliced_csv_'+a\n",
    "for root, dirs, files in os.walk(startdir):\n",
    "    for file in files:\n",
    "        if file.endswith('.csv'):\n",
    "            filename=os.path.join(root,file)\n",
    "            df=pd.read_csv(filename,header=None)\n",
    "            for i in range(1,4):\n",
    "                x=df[i:i+1]\n",
    "                y=x.to_string()\n",
    "                y.strip()\n",
    "                z =y.split()\n",
    "                ls.append(float(z[5]))\n",
    "            ls.append(float(b))\n",
    "            list.append(ls)\n",
    "            ls=[]"
   ]
  },
  {
   "cell_type": "code",
   "execution_count": 7,
   "id": "03ebeaa1",
   "metadata": {},
   "outputs": [
    {
     "data": {
      "text/html": [
       "<div>\n",
       "<style scoped>\n",
       "    .dataframe tbody tr th:only-of-type {\n",
       "        vertical-align: middle;\n",
       "    }\n",
       "\n",
       "    .dataframe tbody tr th {\n",
       "        vertical-align: top;\n",
       "    }\n",
       "\n",
       "    .dataframe thead th {\n",
       "        text-align: right;\n",
       "    }\n",
       "</style>\n",
       "<table border=\"1\" class=\"dataframe\">\n",
       "  <thead>\n",
       "    <tr style=\"text-align: right;\">\n",
       "      <th></th>\n",
       "      <th>Number of packets</th>\n",
       "      <th>Data rate(in bytes)</th>\n",
       "      <th>Average packet length(in bytes)</th>\n",
       "      <th>Target</th>\n",
       "    </tr>\n",
       "  </thead>\n",
       "  <tbody>\n",
       "    <tr>\n",
       "      <th>0</th>\n",
       "      <td>13.0</td>\n",
       "      <td>91.0</td>\n",
       "      <td>70.62</td>\n",
       "      <td>1.0</td>\n",
       "    </tr>\n",
       "    <tr>\n",
       "      <th>1</th>\n",
       "      <td>6.0</td>\n",
       "      <td>44.0</td>\n",
       "      <td>74.67</td>\n",
       "      <td>1.0</td>\n",
       "    </tr>\n",
       "    <tr>\n",
       "      <th>2</th>\n",
       "      <td>2.0</td>\n",
       "      <td>13.0</td>\n",
       "      <td>68.00</td>\n",
       "      <td>1.0</td>\n",
       "    </tr>\n",
       "    <tr>\n",
       "      <th>3</th>\n",
       "      <td>2.0</td>\n",
       "      <td>13.0</td>\n",
       "      <td>68.00</td>\n",
       "      <td>1.0</td>\n",
       "    </tr>\n",
       "    <tr>\n",
       "      <th>4</th>\n",
       "      <td>2.0</td>\n",
       "      <td>13.0</td>\n",
       "      <td>68.00</td>\n",
       "      <td>1.0</td>\n",
       "    </tr>\n",
       "  </tbody>\n",
       "</table>\n",
       "</div>"
      ],
      "text/plain": [
       "   Number of packets  Data rate(in bytes)  Average packet length(in bytes)  \\\n",
       "0               13.0                 91.0                            70.62   \n",
       "1                6.0                 44.0                            74.67   \n",
       "2                2.0                 13.0                            68.00   \n",
       "3                2.0                 13.0                            68.00   \n",
       "4                2.0                 13.0                            68.00   \n",
       "\n",
       "   Target  \n",
       "0     1.0  \n",
       "1     1.0  \n",
       "2     1.0  \n",
       "3     1.0  \n",
       "4     1.0  "
      ]
     },
     "execution_count": 7,
     "metadata": {},
     "output_type": "execute_result"
    }
   ],
   "source": [
    "final_df= pd.DataFrame(list, columns = ['Number of packets', 'Data rate(in bytes)','Average packet length(in bytes)','Target'])\n",
    "final_df.head()"
   ]
  },
  {
   "cell_type": "code",
   "execution_count": 8,
   "id": "a10980e5",
   "metadata": {},
   "outputs": [],
   "source": [
    "final_df.to_csv('features_'+a+'.csv')"
   ]
  },
  {
   "cell_type": "code",
   "execution_count": null,
   "id": "4b0d9078",
   "metadata": {},
   "outputs": [],
   "source": []
  }
 ],
 "metadata": {
  "kernelspec": {
   "display_name": "Python 3 (ipykernel)",
   "language": "python",
   "name": "python3"
  },
  "language_info": {
   "codemirror_mode": {
    "name": "ipython",
    "version": 3
   },
   "file_extension": ".py",
   "mimetype": "text/x-python",
   "name": "python",
   "nbconvert_exporter": "python",
   "pygments_lexer": "ipython3",
   "version": "3.9.7"
  }
 },
 "nbformat": 4,
 "nbformat_minor": 5
}
